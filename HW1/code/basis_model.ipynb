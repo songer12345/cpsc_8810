{
 "cells": [
  {
   "cell_type": "code",
   "execution_count": 1,
   "metadata": {},
   "outputs": [],
   "source": [
    "%matplotlib inline\n",
    "import matplotlib.pyplot as plt\n",
    "import tensorflow as tf\n",
    "import numpy as np\n",
    "import math\n",
    "tf.logging.set_verbosity(tf.logging.ERROR)  # or any {DEBUG, INFO, WARN, ERROR, FATAL}"
   ]
  },
  {
   "cell_type": "code",
   "execution_count": 2,
   "metadata": {
    "scrolled": true
   },
   "outputs": [
    {
     "name": "stdout",
     "output_type": "stream",
     "text": [
      "Extracting data/MNIST/train-images-idx3-ubyte.gz\n",
      "Extracting data/MNIST/train-labels-idx1-ubyte.gz\n",
      "Extracting data/MNIST/t10k-images-idx3-ubyte.gz\n",
      "Extracting data/MNIST/t10k-labels-idx1-ubyte.gz\n"
     ]
    }
   ],
   "source": [
    "from tensorflow.examples.tutorials.mnist import input_data\n",
    "data = input_data.read_data_sets('data/MNIST/', one_hot=True)"
   ]
  },
  {
   "cell_type": "code",
   "execution_count": 3,
   "metadata": {},
   "outputs": [],
   "source": [
    "data.test.cls = np.argmax(data.test.labels, axis=1)"
   ]
  },
  {
   "cell_type": "code",
   "execution_count": 4,
   "metadata": {},
   "outputs": [],
   "source": [
    "img_size = 28\n",
    "\n",
    "img_size_flat = img_size * img_size\n",
    "\n",
    "img_shape = (img_size, img_size)\n",
    "\n",
    "num_channels = 1\n",
    "\n",
    "num_classes = 10"
   ]
  },
  {
   "cell_type": "code",
   "execution_count": 5,
   "metadata": {},
   "outputs": [],
   "source": [
    "x = tf.placeholder(tf.float32, shape=[None, img_size_flat], name='x')"
   ]
  },
  {
   "cell_type": "code",
   "execution_count": 6,
   "metadata": {},
   "outputs": [],
   "source": [
    "x_image = tf.reshape(x, [-1, img_size, img_size, num_channels])"
   ]
  },
  {
   "cell_type": "code",
   "execution_count": 7,
   "metadata": {},
   "outputs": [],
   "source": [
    "y_true = tf.placeholder(tf.float32, shape=[None, num_classes], name='y_true')"
   ]
  },
  {
   "cell_type": "code",
   "execution_count": 8,
   "metadata": {},
   "outputs": [],
   "source": [
    "y_true_cls = tf.argmax(y_true, dimension=1)"
   ]
  },
  {
   "cell_type": "code",
   "execution_count": 9,
   "metadata": {},
   "outputs": [],
   "source": [
    "def get_weights_variable(layer_name):\n",
    "    with tf.variable_scope(layer_name, reuse=True):\n",
    "        variable = tf.get_variable('kernel')\n",
    "        bias=tf.get_variable('bias')\n",
    "    return variable, bias"
   ]
  },
  {
   "cell_type": "code",
   "execution_count": 10,
   "metadata": {},
   "outputs": [],
   "source": [
    "def setgraph(logits):\n",
    "    y_pred = tf.nn.softmax(logits=logits)\n",
    "    y_pred_cls = tf.argmax(y_pred, dimension=1)\n",
    "\n",
    "    cross_entropy = tf.nn.softmax_cross_entropy_with_logits(labels=y_true, logits=logits)\n",
    "    global loss \n",
    "    loss= tf.reduce_mean(cross_entropy)\n",
    "    \n",
    "    correct_prediction = tf.equal(y_pred_cls, y_true_cls)\n",
    "    global accuracy \n",
    "    accuracy= tf.reduce_mean(tf.cast(correct_prediction, tf.float32))\n",
    "    \n",
    "    opt = tf.train.AdamOptimizer(learning_rate=1e-4)\n",
    "    global optimizer \n",
    "    optimizer= opt.minimize(loss)"
   ]
  },
  {
   "cell_type": "code",
   "execution_count": 11,
   "metadata": {},
   "outputs": [],
   "source": [
    "loss_list=[]\n",
    "accu_list=[]"
   ]
  },
  {
   "cell_type": "code",
   "execution_count": 12,
   "metadata": {},
   "outputs": [],
   "source": [
    "train_batch_size=64\n",
    "\n",
    "num_iterations=int(len(data.train.images)/train_batch_size)+1\n",
    "\n",
    "def optimize():\n",
    "\n",
    "    for i in range(0,\n",
    "                    num_iterations):\n",
    "        \n",
    "        x_batch, y_true_batch = data.train.next_batch(train_batch_size,shuffle=True)\n",
    "        \n",
    "        feed_dict_train = {x: x_batch,\n",
    "                           y_true: y_true_batch}\n",
    "        \n",
    "        session.run(optimizer, feed_dict=feed_dict_train)\n",
    "        \n",
    "        los=session.run(loss,feed_dict=feed_dict_train)\n",
    "        acc=session.run(accuracy,feed_dict=feed_dict_train)\n",
    "        \n",
    "        loss_list.append(los)\n",
    "        accu_list.append(acc)\n",
    "        "
   ]
  },
  {
   "cell_type": "code",
   "execution_count": 29,
   "metadata": {},
   "outputs": [],
   "source": [
    "test_batch_size = 256\n",
    "\n",
    "y_pred = tf.nn.softmax(logits=logits)\n",
    "y_pred_cls = tf.argmax(y_pred, dimension=1)\n",
    "\n",
    "def print_test_accuracy():\n",
    "\n",
    "    num_test = len(data.test.images)\n",
    "\n",
    "    cls_pred = np.zeros(shape=num_test, dtype=np.int)\n",
    "\n",
    "    i = 0\n",
    "\n",
    "    while i < num_test:\n",
    "\n",
    "        j = min(i + test_batch_size, num_test)\n",
    "\n",
    "        images = data.test.images[i:j, :]\n",
    "\n",
    "        labels = data.test.labels[i:j, :]\n",
    "\n",
    "        feed_dict = {x: images,\n",
    "                     y_true: labels}\n",
    "\n",
    "        cls_pred[i:j] = session.run(y_pred_cls, feed_dict=feed_dict)\n",
    "\n",
    "        i = j\n",
    "\n",
    "    cls_true = data.test.cls\n",
    "\n",
    "    correct = (cls_true == cls_pred)\n",
    "\n",
    "    correct_sum = correct.sum()\n",
    "\n",
    "    acc = float(correct_sum) / num_test\n",
    "\n",
    "    los=session.run(loss,feed_dict=feed_dict)\n",
    "    \n",
    "    msg = \"Accuracy on Test-Set: {0:.1%} ({1} / {2})\"\n",
    "    \n",
    "    print(msg.format(acc, correct_sum, num_test))\n",
    "    \n",
    "    msg = \"Loss on Test-Set: {0:.3}\"\n",
    "    \n",
    "    print(msg.format(los))    "
   ]
  },
  {
   "cell_type": "code",
   "execution_count": 17,
   "metadata": {},
   "outputs": [],
   "source": [
    "net = tf.layers.dense(inputs=x, name='layer_fc01',\n",
    "                      units=128, activation=tf.nn.relu)\n",
    "net = tf.layers.dense(inputs=net, name='layer_fc02',\n",
    "                      units=128, activation=tf.nn.relu)\n",
    "logits = tf.layers.dense(inputs=net, name='layer_fc_out0',\n",
    "                      units=num_classes, activation=None)\n",
    "setgraph(logits)"
   ]
  },
  {
   "cell_type": "code",
   "execution_count": 30,
   "metadata": {},
   "outputs": [
    {
     "name": "stdout",
     "output_type": "stream",
     "text": [
      "epoch 0\n",
      "Accuracy on Test-Set: 91.8% (9178 / 10000)\n",
      "Loss on Test-Set: 0.2\n",
      "epoch 1\n",
      "Accuracy on Test-Set: 93.2% (9323 / 10000)\n",
      "Loss on Test-Set: 0.1\n",
      "epoch 2\n",
      "Accuracy on Test-Set: 94.2% (9419 / 10000)\n",
      "Loss on Test-Set: 0.1\n",
      "epoch 3\n",
      "Accuracy on Test-Set: 94.8% (9480 / 10000)\n",
      "Loss on Test-Set: 0.08\n",
      "epoch 4\n",
      "Accuracy on Test-Set: 95.5% (9548 / 10000)\n",
      "Loss on Test-Set: 0.08\n",
      "epoch 5\n",
      "Accuracy on Test-Set: 95.5% (9547 / 10000)\n",
      "Loss on Test-Set: 0.05\n",
      "epoch 6\n",
      "Accuracy on Test-Set: 96.0% (9596 / 10000)\n",
      "Loss on Test-Set: 0.05\n",
      "epoch 7\n",
      "Accuracy on Test-Set: 96.4% (9637 / 10000)\n",
      "Loss on Test-Set: 0.03\n",
      "epoch 8\n",
      "Accuracy on Test-Set: 96.5% (9645 / 10000)\n",
      "Loss on Test-Set: 0.03\n",
      "epoch 9\n",
      "Accuracy on Test-Set: 96.7% (9667 / 10000)\n",
      "Loss on Test-Set: 0.02\n"
     ]
    }
   ],
   "source": [
    "session = tf.Session()\n",
    "session.run(tf.global_variables_initializer())\n",
    "\n",
    "for epoch in range(0,10):\n",
    "    print(\"epoch \"+str(epoch))\n",
    "    optimize()\n",
    "    print_test_accuracy()"
   ]
  },
  {
   "cell_type": "code",
   "execution_count": 21,
   "metadata": {},
   "outputs": [
    {
     "data": {
      "image/png": "[encoded data removed]",
      "text/plain": [
       "<matplotlib.figure.Figure at 0x1485062cfba8>"
      ]
     },
     "metadata": {},
     "output_type": "display_data"
    }
   ],
   "source": [
    "plt.plot(loss_list)\n",
    "plt.title('Model gradient')\n",
    "plt.ylabel('')\n",
    "plt.xlabel('iteration')\n",
    "plt.show()"
   ]
  },
  {
   "cell_type": "code",
   "execution_count": 22,
   "metadata": {},
   "outputs": [
    {
     "data": {
      "image/png": "[encoded data removed]",
      "text/plain": [
       "<matplotlib.figure.Figure at 0x1485062cd400>"
      ]
     },
     "metadata": {},
     "output_type": "display_data"
    }
   ],
   "source": [
    "plt.plot(accu_list)\n",
    "plt.title('Model gradient')\n",
    "plt.ylabel('gradient')\n",
    "plt.xlabel('iteration')\n",
    "plt.show()"
   ]
  },
  {
   "cell_type": "code",
   "execution_count": null,
   "metadata": {},
   "outputs": [],
   "source": [
    "import matplotlib.pyplot as plt\n",
    "\n",
    "\n",
    "plt.scatter(result, result_loss)\n",
    "\n",
    "plt.title(\"\", fontsize=19)\n",
    "plt.xlabel(\"minimum_ratio\", fontsize=10)\n",
    "plt.ylabel(\"loss\", fontsize=10)\n",
    "plt.tick_params(axis='both', which='major', labelsize=9)\n",
    "plt.show()\n"
   ]
  },
  {
   "cell_type": "code",
   "execution_count": null,
   "metadata": {},
   "outputs": [],
   "source": [
    "fig, ax1 = plt.subplots()\n",
    "\n",
    "ax1.plot(batch,accu_testing_list , marker='o', linestyle='--', color='b', label='test')\n",
    "ax1.plot(batch,accu_training_list , marker='o', linestyle='-', color='b', label='train')\n",
    "ax1.set_xlabel('batch size')\n",
    "ax1.set_ylabel('accu') \n",
    "ax1.legend(loc='upper left')\n",
    "\n",
    "ax2 = ax1.twinx()\n",
    "ax2.plot(batch,sensitive , marker='o', linestyle='-', color='r', label='sensitive')\n",
    "ax2.set_ylabel('sensitive') \n",
    "ax2.legend(loc='upper right')\n",
    "\n",
    "plt.title('loss')\n",
    "plt.gca().set_xscale('log')\n",
    "plt.show()"
   ]
  }
 ],
 "metadata": {
  "anaconda-cloud": {},
  "kernelspec": {
   "display_name": "Tensorflow2",
   "language": "python",
   "name": "tf_env2"
  },
  "language_info": {
   "codemirror_mode": {
    "name": "ipython",
    "version": 3
   },
   "file_extension": ".py",
   "mimetype": "text/x-python",
   "name": "python",
   "nbconvert_exporter": "python",
   "pygments_lexer": "ipython3",
   "version": "3.6.3"
  }
 },
 "nbformat": 4,
 "nbformat_minor": 1
}
